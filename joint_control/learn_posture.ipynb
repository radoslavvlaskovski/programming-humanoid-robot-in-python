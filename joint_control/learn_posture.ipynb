{
 "cells": [
  {
   "cell_type": "markdown",
   "metadata": {},
   "source": [
    "# Learn Posture"
   ]
  },
  {
   "cell_type": "markdown",
   "metadata": {},
   "source": [
    "use machine learning to recognize robot's posture (following the example in [scikit-learn-intro.ipynb](./scikit-learn-intro.ipynb) )"
   ]
  },
  {
   "cell_type": "markdown",
   "metadata": {},
   "source": [
    "## 1. Data collection\n",
    "\n",
    "We have colleceted data before, you need to add new data if you want to add new posture.\n",
    "\n",
    "* the dateset are in *robot_pose_data* folder\n",
    "* each file contains the data belongs to this posture, e.g. the data in *Back* file are collected when robot was in \"Back\" posture\n",
    "* the data file can be load by ```pickle```, e.g. ```pickle.load(open('Back'))```, the data is a list of feature data\n",
    "* the features (e.g. each row of the data) are ['AngleX', 'AngleY', 'LHipYawPitch', 'LHipRoll', 'LHipPitch', 'LKneePitch', 'RHipYawPitch', 'RHipRoll', 'RHipPitch', 'RKneePitch'], where 'AngleX' and 'AngleY' are body angle (e.g. ```Perception.imu```) and others are joint angles."
   ]
  },
  {
   "cell_type": "markdown",
   "metadata": {},
   "source": [
    "## 2. Data preprocessing"
   ]
  },
  {
   "cell_type": "code",
   "execution_count": 1,
   "metadata": {
    "collapsed": false
   },
   "outputs": [
    {
     "name": "stdout",
     "output_type": "stream",
     "text": [
      "Populating the interactive namespace from numpy and matplotlib\n"
     ]
    }
   ],
   "source": [
    "%pylab inline\n",
    "import pickle\n",
    "from os import listdir, path\n",
    "import numpy as np\n",
    "from sklearn import svm, metrics\n",
    "\n",
    "ROBOT_POSE_DATA_DIR = 'robot_pose_data'"
   ]
  },
  {
   "cell_type": "code",
   "execution_count": 2,
   "metadata": {
    "collapsed": false
   },
   "outputs": [
    {
     "name": "stdout",
     "output_type": "stream",
     "text": [
      "['Stand', 'Left', 'Crouch', 'Sit', 'Belly', 'Knee', 'StandInit', 'Back', 'Right', 'Frog', 'HeadBack']\n"
     ]
    }
   ],
   "source": [
    "classes = listdir(ROBOT_POSE_DATA_DIR)\n",
    "print classes"
   ]
  },
  {
   "cell_type": "code",
   "execution_count": 3,
   "metadata": {
    "collapsed": true
   },
   "outputs": [],
   "source": [
    "def load_pose_data(i):\n",
    "    '''load pose data from file'''\n",
    "    data = []\n",
    "    target = []\n",
    "    # YOUR CODE HERE\n",
    "    \n",
    "    filename = path.join(ROBOT_POSE_DATA_DIR, classes[i])\n",
    "    data = pickle.load(open(filename))\n",
    "    target = [i] * len(data)\n",
    "    print len(data), len(target)\n",
    "    return data, target"
   ]
  },
  {
   "cell_type": "code",
   "execution_count": 4,
   "metadata": {
    "collapsed": false
   },
   "outputs": [
    {
     "name": "stdout",
     "output_type": "stream",
     "text": [
      "11 11\n",
      "20 20\n",
      "30 30\n",
      "26 26\n",
      "19 19\n",
      "10 10\n",
      "52 52\n",
      "23 23\n",
      "11 11\n",
      "10 10\n",
      "10 10\n",
      "total number of data 222\n"
     ]
    }
   ],
   "source": [
    "# load all the data\n",
    "all_data = []\n",
    "all_target = []\n",
    "\n",
    "for i in range(0,len(classes)):\n",
    "    data,target = load_pose_data(i)\n",
    "    all_data.extend(data)\n",
    "    all_target.extend(target)\n",
    "    \n",
    "    \n",
    "print 'total number of data', len(all_data)"
   ]
  },
  {
   "cell_type": "markdown",
   "metadata": {},
   "source": [
    "## 3. Learn on training data\n",
    "\n",
    "In scikit-learn, an estimator for classification is a Python object that implements the methods fit(X, y) and predict(T). An example of an estimator is the class sklearn.svm.SVC that implements support vector classification."
   ]
  },
  {
   "cell_type": "code",
   "execution_count": 5,
   "metadata": {
    "collapsed": false
   },
   "outputs": [],
   "source": [
    "# shuffule data\n",
    "permutation = np.random.permutation(len(all_data))\n",
    "n_training_data = int(len(all_data) * 0.7)\n",
    "training_data = permutation[:n_training_data]"
   ]
  },
  {
   "cell_type": "code",
   "execution_count": 6,
   "metadata": {
    "collapsed": false
   },
   "outputs": [
    {
     "name": "stdout",
     "output_type": "stream",
     "text": [
      "[ 44  83  41 162  10 219 209 183  70 210  12  87  80 125 192  60  17 124\n",
      "  62 146 182 111  48  74 157  52 171  34 110 165  92 119 193 204 147 130\n",
      "   0  23   1 123  40  50 134  95  78 127  54  18  14  27  90  46 199 211\n",
      "  94  59  39  26  98 153   8 128 207 137 126  33  56 152  47  31  73 181\n",
      " 187 172  71 180 191 173  21  49  37  77  36   5  67 166 160 164 189 113\n",
      "  91 148 205 145 102 177 215 175  55 188  84 195  66  65 115 109 133 143\n",
      " 169 212   3  89  42 198 170 218 140 100  81 138  53 176  99  72 206 121\n",
      " 105 167 149  35   2 135  30  19 118 142  88 155  57 168  96  32  97 106\n",
      "  38 122 174  45  51 161 201 208  86   7   9]\n"
     ]
    }
   ],
   "source": [
    "print training_data"
   ]
  },
  {
   "cell_type": "code",
   "execution_count": 7,
   "metadata": {
    "collapsed": false
   },
   "outputs": [],
   "source": [
    "clf = svm.SVC(gamma=0.001, C=100.)"
   ]
  },
  {
   "cell_type": "markdown",
   "metadata": {},
   "source": [
    "### learning"
   ]
  },
  {
   "cell_type": "code",
   "execution_count": 8,
   "metadata": {
    "collapsed": false
   },
   "outputs": [
    {
     "data": {
      "text/plain": [
       "SVC(C=100.0, cache_size=200, class_weight=None, coef0=0.0, degree=3,\n",
       "  gamma=0.001, kernel='rbf', max_iter=-1, probability=False,\n",
       "  random_state=None, shrinking=True, tol=0.001, verbose=False)"
      ]
     },
     "execution_count": 8,
     "metadata": {},
     "output_type": "execute_result"
    }
   ],
   "source": [
    "fit_data = []\n",
    "fit_target = []\n",
    "for i in range(0,len(training_data)):\n",
    "    fit_data.append(all_data[training_data[i]])\n",
    "    fit_target.append(all_target[training_data[i]])\n",
    "    \n",
    "clf.fit(fit_data, fit_target) "
   ]
  },
  {
   "cell_type": "markdown",
   "metadata": {},
   "source": [
    "### predicting"
   ]
  },
  {
   "cell_type": "code",
   "execution_count": 9,
   "metadata": {
    "collapsed": false
   },
   "outputs": [
    {
     "data": {
      "text/plain": [
       "(array([0]), 0)"
      ]
     },
     "execution_count": 9,
     "metadata": {},
     "output_type": "execute_result"
    }
   ],
   "source": [
    "clf.predict(all_data[1]), all_target[1]"
   ]
  },
  {
   "cell_type": "code",
   "execution_count": 10,
   "metadata": {
    "collapsed": false
   },
   "outputs": [],
   "source": [
    "def evaluate(expected, predicted):\n",
    "    print(\"Classification report:\\n%s\\n\" % metrics.classification_report(expected, predicted))\n",
    "\n",
    "    print(\"Confusion matrix:\\n%s\" % metrics.confusion_matrix(expected, predicted))"
   ]
  },
  {
   "cell_type": "code",
   "execution_count": null,
   "metadata": {
    "collapsed": false,
    "scrolled": true
   },
   "outputs": [],
   "source": []
  },
  {
   "cell_type": "markdown",
   "metadata": {},
   "source": [
    "## 4. Evaluate on the test data"
   ]
  },
  {
   "cell_type": "code",
   "execution_count": 11,
   "metadata": {
    "collapsed": false
   },
   "outputs": [
    {
     "name": "stdout",
     "output_type": "stream",
     "text": [
      "Classification report:\n",
      "             precision    recall  f1-score   support\n",
      "\n",
      "          0       1.00      1.00      1.00         2\n",
      "          1       1.00      1.00      1.00        10\n",
      "          2       1.00      1.00      1.00         2\n",
      "          3       1.00      1.00      1.00        10\n",
      "          4       1.00      1.00      1.00         4\n",
      "          5       1.00      1.00      1.00         4\n",
      "          6       1.00      1.00      1.00        17\n",
      "          7       1.00      1.00      1.00         6\n",
      "          8       1.00      1.00      1.00         4\n",
      "          9       1.00      1.00      1.00         2\n",
      "         10       1.00      1.00      1.00         6\n",
      "\n",
      "avg / total       1.00      1.00      1.00        67\n",
      "\n",
      "\n",
      "Confusion matrix:\n",
      "[[ 2  0  0  0  0  0  0  0  0  0  0]\n",
      " [ 0 10  0  0  0  0  0  0  0  0  0]\n",
      " [ 0  0  2  0  0  0  0  0  0  0  0]\n",
      " [ 0  0  0 10  0  0  0  0  0  0  0]\n",
      " [ 0  0  0  0  4  0  0  0  0  0  0]\n",
      " [ 0  0  0  0  0  4  0  0  0  0  0]\n",
      " [ 0  0  0  0  0  0 17  0  0  0  0]\n",
      " [ 0  0  0  0  0  0  0  6  0  0  0]\n",
      " [ 0  0  0  0  0  0  0  0  4  0  0]\n",
      " [ 0  0  0  0  0  0  0  0  0  2  0]\n",
      " [ 0  0  0  0  0  0  0  0  0  0  6]]\n"
     ]
    },
    {
     "name": "stderr",
     "output_type": "stream",
     "text": [
      "/usr/local/lib/python2.7/dist-packages/numpy/core/fromnumeric.py:2641: VisibleDeprecationWarning: `rank` is deprecated; use the `ndim` attribute or function instead. To find the rank of a matrix see `numpy.linalg.matrix_rank`.\n",
      "  VisibleDeprecationWarning)\n"
     ]
    }
   ],
   "source": [
    "expected = []\n",
    "predicted = []\n",
    "prediction_data = []\n",
    "for i in range(0,len(all_data)):\n",
    "    if( not (i in training_data)):\n",
    "        expected.append(all_target[i])\n",
    "        prediction_data.append(all_data[i])\n",
    "predicted = clf.predict(prediction_data)\n",
    "\n",
    "evaluate(expected, predicted)"
   ]
  },
  {
   "cell_type": "markdown",
   "metadata": {},
   "source": [
    "## 5. Deploy to the real system\n",
    "\n",
    "We can simple use `pickle` module to serialize the trained classifier."
   ]
  },
  {
   "cell_type": "code",
   "execution_count": 12,
   "metadata": {
    "collapsed": false
   },
   "outputs": [],
   "source": [
    "import pickle\n",
    "ROBOT_POSE_CLF = 'robot_pose.pkl'\n",
    "pickle.dump(clf, open(ROBOT_POSE_CLF, 'w'))"
   ]
  },
  {
   "cell_type": "markdown",
   "metadata": {},
   "source": [
    "Then, in the application we can load the trained classifier again."
   ]
  },
  {
   "cell_type": "code",
   "execution_count": 13,
   "metadata": {
    "collapsed": false
   },
   "outputs": [
    {
     "name": "stdout",
     "output_type": "stream",
     "text": [
      "Stand Stand\n",
      "Stand Stand\n",
      "Stand Stand\n",
      "Left Left\n",
      "Left Left\n",
      "Left Left\n",
      "Left Left\n",
      "Crouch Crouch\n",
      "Crouch Crouch\n",
      "Crouch Crouch\n",
      "Crouch Crouch\n",
      "Crouch Crouch\n",
      "Crouch Crouch\n",
      "Sit Sit\n",
      "Sit Sit\n",
      "Sit Sit\n",
      "Sit Sit\n",
      "Sit Sit\n",
      "Belly Belly\n",
      "Belly Belly\n",
      "Belly Belly\n",
      "Belly Belly\n",
      "Knee Knee\n",
      "Knee Knee\n",
      "StandInit StandInit\n",
      "StandInit StandInit\n",
      "StandInit StandInit\n",
      "StandInit StandInit\n",
      "StandInit StandInit\n",
      "StandInit StandInit\n",
      "StandInit StandInit\n",
      "StandInit StandInit\n",
      "StandInit StandInit\n",
      "StandInit StandInit\n",
      "Back Back\n",
      "Back Back\n",
      "Back Back\n",
      "Back Back\n",
      "Back Back\n",
      "Right Right\n",
      "Right Right\n",
      "Frog Frog\n",
      "Frog Frog\n",
      "HeadBack HeadBack\n",
      "HeadBack HeadBack\n"
     ]
    },
    {
     "name": "stderr",
     "output_type": "stream",
     "text": [
      "/usr/local/lib/python2.7/dist-packages/ipykernel/__main__.py:3: DeprecationWarning: converting an array with ndim > 0 to an index will result in an error in the future\n",
      "  app.launch_new_instance()\n"
     ]
    }
   ],
   "source": [
    "clf2 = pickle.load(open(ROBOT_POSE_CLF))\n",
    "for i in range(0,len(all_data),5):\n",
    "    print classes[clf2.predict(all_data[i])], classes[all_target[i]]"
   ]
  },
  {
   "cell_type": "code",
   "execution_count": null,
   "metadata": {
    "collapsed": true
   },
   "outputs": [],
   "source": []
  }
 ],
 "metadata": {
  "kernelspec": {
   "display_name": "Python 2",
   "language": "python",
   "name": "python2"
  },
  "language_info": {
   "codemirror_mode": {
    "name": "ipython",
    "version": 2
   },
   "file_extension": ".py",
   "mimetype": "text/x-python",
   "name": "python",
   "nbconvert_exporter": "python",
   "pygments_lexer": "ipython2",
   "version": "2.7.6"
  }
 },
 "nbformat": 4,
 "nbformat_minor": 0
}
