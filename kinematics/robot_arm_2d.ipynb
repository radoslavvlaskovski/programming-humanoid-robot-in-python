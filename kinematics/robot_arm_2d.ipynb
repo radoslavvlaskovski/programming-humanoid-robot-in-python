{
 "cells": [
  {
   "cell_type": "markdown",
   "metadata": {},
   "source": [
    "# Robot Arm Kinematics (2D)"
   ]
  },
  {
   "cell_type": "code",
   "execution_count": 1,
   "metadata": {
    "collapsed": false
   },
   "outputs": [],
   "source": [
    "%matplotlib inline\n",
    "from pylab import *\n",
    "from numpy import sin, cos, pi, matrix, random\n",
    "from __future__ import division\n",
    "from math import atan2\n",
    "rcParams = {}\n",
    "rcParams['figure.figsize'] = 12, 10  # that's default image size for this interactive session\n",
    "from IPython import display\n",
    "from ipywidgets import interact, fixed\n",
    "from matplotlib.pyplot import *"
   ]
  },
  {
   "cell_type": "markdown",
   "metadata": {},
   "source": [
    "## Coordinate Transformation"
   ]
  },
  {
   "cell_type": "code",
   "execution_count": 2,
   "metadata": {
    "collapsed": false
   },
   "outputs": [],
   "source": [
    "def trans(x, y, a):\n",
    "    '''create a 2D transformation'''\n",
    "    s = sin(a)\n",
    "    c = cos(a)\n",
    "    return matrix([[c, -s, x],\n",
    "                   [s,  c, y],\n",
    "                   [0,  0, 1]])\n",
    "\n",
    "def from_trans(m):\n",
    "    '''get x, y, theta from transform matrix'''\n",
    "    return [m[0, -1], m[1, -1], atan2(m[1, 0], m[0, 0])]"
   ]
  },
  {
   "cell_type": "code",
   "execution_count": 3,
   "metadata": {
    "collapsed": false
   },
   "outputs": [
    {
     "data": {
      "text/plain": [
       "matrix([[ 0.70710678, -0.70710678,  0.        ],\n",
       "        [ 0.70710678,  0.70710678,  0.        ],\n",
       "        [ 0.        ,  0.        ,  1.        ]])"
      ]
     },
     "execution_count": 3,
     "metadata": {},
     "output_type": "execute_result"
    }
   ],
   "source": [
    "trans(0, 0, 0)\n",
    "trans(0,0,pi/4)"
   ]
  },
  {
   "cell_type": "markdown",
   "metadata": {},
   "source": [
    "## Parameters of robot arm"
   ]
  },
  {
   "cell_type": "code",
   "execution_count": 4,
   "metadata": {
    "collapsed": false
   },
   "outputs": [
    {
     "name": "stdout",
     "output_type": "stream",
     "text": [
      "[0, 3, 2, 1]\n",
      "1\n"
     ]
    }
   ],
   "source": [
    "N = 3  # number of links\n",
    "l = [0] + range(N, 0, -1)  # length of link, l[0] is ingored\n",
    "print l\n",
    "print l[-1]\n",
    "max_len = sum(l)\n",
    "a = random.random_sample(N)  # angles of joints\n",
    "T0 = trans(0, 0, 0)  # base\n",
    "lv = [0] + range(N, 0, -1)"
   ]
  },
  {
   "cell_type": "markdown",
   "metadata": {},
   "source": [
    "## Forward Kinematics"
   ]
  },
  {
   "cell_type": "code",
   "execution_count": 5,
   "metadata": {
    "collapsed": false
   },
   "outputs": [],
   "source": [
    "def forward_kinematics(T0, l, a):\n",
    "    T = [T0]\n",
    "    for i in range(len(a)):\n",
    "        Ti = T[-1] * trans(l[i], 0, a[i])\n",
    "        T.append(Ti)\n",
    "    Te = T[-1] * trans(l[-1], 0, 0)  # end effector\n",
    "    #print Te\n",
    "    T.append(Te)\n",
    "    return T"
   ]
  },
  {
   "cell_type": "code",
   "execution_count": 28,
   "metadata": {
    "collapsed": false
   },
   "outputs": [
    {
     "name": "stdout",
     "output_type": "stream",
     "text": [
      "[[ 1. -0.  0.]\n",
      " [ 0.  1.  0.]\n",
      " [ 0.  0.  1.]]\n"
     ]
    }
   ],
   "source": [
    "print T0\n",
    "T = forward_kinematics(T0, l, (pi/2,pi/2))\n",
    "Te = matrix([from_trans(T[-1])])\n",
    "#print Te"
   ]
  },
  {
   "cell_type": "code",
   "execution_count": 6,
   "metadata": {
    "collapsed": false
   },
   "outputs": [],
   "source": [
    "def show_robot_arm(T):\n",
    "    #cla()\n",
    "    x = [Ti[0,-1] for Ti in T]\n",
    "    y = [Ti[1,-1] for Ti in T]\n",
    "    plot(x, y, '-or', linewidth=5, markersize=10)\n",
    "    xlim([-max_len, max_len])\n",
    "    ylim([-max_len, max_len]) \n",
    "    ax = axes()\n",
    "    ax.set_aspect('equal')\n",
    "    t = atan2(T[-1][1, 0], T[-1][0,0])\n",
    "    ax.annotate('[%f,%f,%f]' % (x[-1], y[-1], t), xy=(x[-1], y[-1]), xytext=(x[-1], y[-1] + 0.5))\n",
    "    display.clear_output(wait=True)"
   ]
  },
  {
   "cell_type": "code",
   "execution_count": null,
   "metadata": {
    "collapsed": false
   },
   "outputs": [],
   "source": [
    "for i in range(N):\n",
    "    @interact(value=(-pi/2, pi/2, 0.1), n=fixed(i))\n",
    "    def set_joint_angle(n, value=0):\n",
    "        global a\n",
    "        a[n] = value\n",
    "        T = forward_kinematics(T0, l, a)\n",
    "        show_robot_arm(T)\n"
   ]
  },
  {
   "cell_type": "markdown",
   "metadata": {},
   "source": [
    "## Inverse Kinematics"
   ]
  },
  {
   "cell_type": "markdown",
   "metadata": {},
   "source": [
    "## Analytical Solutions with Sympy"
   ]
  },
  {
   "cell_type": "markdown",
   "metadata": {},
   "source": [
    "[SymPy](http://sympy.org/) is a Python library for symbolic mathematics."
   ]
  },
  {
   "cell_type": "code",
   "execution_count": null,
   "metadata": {
    "collapsed": false
   },
   "outputs": [],
   "source": [
    "from sympy import init_printing, sin, cos, pi, asin, acos, atan2, atan, sqrt, simplify, solve, latex, symbols\n",
    "from sympy import Matrix as matrix\n",
    "init_printing()"
   ]
  },
  {
   "cell_type": "code",
   "execution_count": null,
   "metadata": {
    "collapsed": false
   },
   "outputs": [],
   "source": [
    "from sympy.abc import x, y, theta\n",
    "trans(x, y, theta)"
   ]
  },
  {
   "cell_type": "code",
   "execution_count": null,
   "metadata": {
    "collapsed": false
   },
   "outputs": [],
   "source": [
    "N = 4\n",
    "l = [symbols('l_%d' % i) for i in range(N + 1)]\n",
    "l[0] = 0\n",
    "a = [symbols('theta_%d' % i) for i in range(N)]\n",
    "T0 = trans(0, 0, 0)"
   ]
  },
  {
   "cell_type": "code",
   "execution_count": null,
   "metadata": {
    "collapsed": false
   },
   "outputs": [],
   "source": [
    "l, a"
   ]
  },
  {
   "cell_type": "code",
   "execution_count": null,
   "metadata": {
    "collapsed": false
   },
   "outputs": [],
   "source": [
    "T0"
   ]
  },
  {
   "cell_type": "code",
   "execution_count": null,
   "metadata": {
    "collapsed": false
   },
   "outputs": [],
   "source": [
    "T = forward_kinematics(T0, l, a)\n",
    "Te = T[-1]\n",
    "Te"
   ]
  },
  {
   "cell_type": "code",
   "execution_count": null,
   "metadata": {
    "collapsed": false
   },
   "outputs": [],
   "source": [
    "Te = simplify(Te)\n",
    "Te"
   ]
  },
  {
   "cell_type": "code",
   "execution_count": null,
   "metadata": {
    "collapsed": false
   },
   "outputs": [],
   "source": [
    "eq = Te * trans(x, y, theta).inv() - T0\n",
    "eq"
   ]
  },
  {
   "cell_type": "code",
   "execution_count": null,
   "metadata": {
    "collapsed": false
   },
   "outputs": [],
   "source": [
    "eq = [a[0] + a[1] + a[2] - theta, eq[0, 2], eq[1, 2]]\n",
    "eq"
   ]
  },
  {
   "cell_type": "code",
   "execution_count": null,
   "metadata": {
    "collapsed": false
   },
   "outputs": [],
   "source": [
    "solve(eq, a)  # sympy is too stupid to solve it"
   ]
  },
  {
   "cell_type": "code",
   "execution_count": null,
   "metadata": {
    "collapsed": false
   },
   "outputs": [],
   "source": [
    "b = [symbols('theta_%d' % i) for i in range(N)]\n",
    "T3 = trans(x, y, theta) * trans(l[3], 0, 0).inv()\n",
    "l_1_2 = T3[0,-1] ** 2 + T3[1,-1] ** 2\n",
    "b_1_2 = acos((l[1] ** 2 + l[2] ** 2 - l_1_2) / (2 * l[1] * l[2]))  # cosine rule\n",
    "b[1] = pi - b_1_2\n",
    "b_1 = acos((l[1] ** 2 - l[2] ** 2 + l_1_2) / (2 * l[1] * sqrt(l_1_2)))  # cosine rule\n",
    "b_0 = atan(T3[1,-1] / T3[0,-1])\n",
    "b[0] = b_0 - b_1\n",
    "b[2] = atan(T3[1,0] / T3[0,0]) - b[0] - b[1]\n",
    "B = matrix([b]).T\n",
    "B = simplify(B)\n",
    "B"
   ]
  },
  {
   "cell_type": "code",
   "execution_count": null,
   "metadata": {
    "collapsed": false
   },
   "outputs": [],
   "source": [
    "print latex(B)"
   ]
  },
  {
   "cell_type": "code",
   "execution_count": null,
   "metadata": {
    "collapsed": false
   },
   "outputs": [],
   "source": [
    "T_new = forward_kinematics(T0, l, b)\n",
    "Te_new = T_new[-1]\n",
    "Te_new"
   ]
  },
  {
   "cell_type": "code",
   "execution_count": null,
   "metadata": {
    "collapsed": false
   },
   "outputs": [],
   "source": [
    "simplify(Te_new[0, 0])"
   ]
  },
  {
   "cell_type": "code",
   "execution_count": null,
   "metadata": {
    "collapsed": false
   },
   "outputs": [],
   "source": [
    "simplify(Te_new[1, 0])"
   ]
  },
  {
   "cell_type": "code",
   "execution_count": null,
   "metadata": {
    "collapsed": false
   },
   "outputs": [],
   "source": [
    "simplify(Te_new[0, -1])"
   ]
  },
  {
   "cell_type": "markdown",
   "metadata": {},
   "source": [
    "### Test the analytical solution"
   ]
  },
  {
   "cell_type": "code",
   "execution_count": null,
   "metadata": {
    "collapsed": false
   },
   "outputs": [],
   "source": [
    "from numpy import sin, cos, pi, matrix\n",
    "from math import atan2, acos\n",
    "\n",
    "T0 = trans(0, 0, 0)\n",
    "lv = [0] + range(N, 0, -1)  # length of link, l[0] is ingored\n",
    "bf = B\n",
    "for i in range(N):\n",
    "    bf = bf.subs(l[i + 1], lv[i + 1])\n",
    "\n",
    "def inverse_kinematics(x_e, y_e, theta_e):\n",
    "    b = bf.subs(x, x_e).subs(y, y_e).subs(theta, theta_e)\n",
    "    b = (b.subs('I', 1).subs('pi', pi).tolist())\n",
    "    b = [float(i[0]) for i in b]\n",
    "    return b\n",
    "    \n",
    "@interact(x_e=(0, max_len, 0.1), y_e=(-max_len, max_len, 0.1), theta_e=(-pi, pi, 0.1))\n",
    "def set_end_effector(x_e=6, y_e=0, theta_e=0):\n",
    "    b = inverse_kinematics(x_e, y_e, theta_e)\n",
    "    T = forward_kinematics(T0, lv, b)\n",
    "    show_robot_arm(T)\n",
    " "
   ]
  },
  {
   "cell_type": "code",
   "execution_count": 21,
   "metadata": {
    "collapsed": false
   },
   "outputs": [
    {
     "name": "stdout",
     "output_type": "stream",
     "text": [
      "[ 0.1  0.1  0.1]\n",
      "\n",
      "[matrix([[ 1., -0.,  0.],\n",
      "        [ 0.,  1.,  0.],\n",
      "        [ 0.,  0.,  1.]]), matrix([[ 0.99500417, -0.09983342,  0.        ],\n",
      "        [ 0.09983342,  0.99500417,  0.        ],\n",
      "        [ 0.        ,  0.        ,  1.        ]]), matrix([[ 0.98006658, -0.19866933,  2.9850125 ],\n",
      "        [ 0.19866933,  0.98006658,  0.29950025],\n",
      "        [ 0.        ,  0.        ,  1.        ]]), matrix([[ 0.95533649, -0.29552021,  4.94514565],\n",
      "        [ 0.29552021,  0.95533649,  0.69683891],\n",
      "        [ 0.        ,  0.        ,  1.        ]]), matrix([[ 0.95533649, -0.29552021,  5.90048214],\n",
      "        [ 0.29552021,  0.95533649,  0.99235912],\n",
      "        [ 0.        ,  0.        ,  1.        ]])]\n",
      "\n",
      "[[ 5.90048214  0.99235912  0.3       ]]\n",
      "\n",
      "[[ 0.          0.          0.1       ]\n",
      " [ 2.9850125   0.29950025  0.2       ]\n",
      " [ 4.94514565  0.69683891  0.3       ]]\n",
      "\n",
      "[[ 5.90048214  0.99235912  0.2       ]\n",
      " [ 2.91546964  0.69285887  0.1       ]\n",
      " [ 0.95533649  0.29552021  0.        ]]\n",
      "\n",
      "[[ 5.90048214  2.91546964  0.95533649]\n",
      " [ 0.99235912  0.69285887  0.29552021]\n",
      " [ 0.2         0.1         0.        ]]\n",
      "[[ 5.90048214  2.91546964  0.95533649]\n",
      " [ 0.99235912  0.69285887  0.29552021]\n",
      " [ 1.          1.          1.        ]]\n",
      "\n",
      "\n",
      "[[ 44.22832055   8.15772749   9.77128827]\n",
      " [  8.15772749   1.55216222   1.98073819]\n",
      " [  9.77128827   1.98073819   3.        ]]\n",
      "\n"
     ]
    }
   ],
   "source": [
    "from numpy import asarray\n",
    "theta = asarray([0.1] * N)\n",
    "print theta\n",
    "print\n",
    "T = forward_kinematics(T0, lv, theta)\n",
    "print T\n",
    "print\n",
    "Te = matrix([from_trans(T[-1])])\n",
    "print Te\n",
    "print\n",
    "T = matrix([from_trans(i) for i in T[1:-1]])\n",
    "print T\n",
    "print\n",
    "J = Te - T\n",
    "print J\n",
    "J = J.T\n",
    "print \n",
    "print J\n",
    "J[-1, :] = 1\n",
    "print J\n",
    "print\n",
    "JJT = J * J.T\n",
    "print\n",
    "print JJT\n",
    "print\n",
    "#d_theta = 0.001 * J.T * JJT.I * e.T"
   ]
  },
  {
   "cell_type": "markdown",
   "metadata": {},
   "source": [
    "### Numerical Solution"
   ]
  },
  {
   "cell_type": "code",
   "execution_count": null,
   "metadata": {
    "collapsed": false
   },
   "outputs": [],
   "source": [
    "from numpy import asarray\n",
    "\n",
    "theta = asarray([0.1] * N)\n",
    "def inverse_kinematics(x_e, y_e, theta_e, theta):\n",
    "    target = matrix([[x_e, y_e, theta_e]])\n",
    "    while True:\n",
    "        T = forward_kinematics(T0, lv, theta)\n",
    "        print T\n",
    "        Te = matrix([from_trans(T[-1])])\n",
    "        print Te\n",
    "        e = target - Te\n",
    "        print e\n",
    "        T = matrix([from_trans(i) for i in T[1:-1]])\n",
    "        J = Te - T\n",
    "        J = J.T\n",
    "        J[-1, :] = 1\n",
    "        JJT = J * J.T\n",
    "        print J\n",
    "        d_theta = 0.001 * J.T * JJT.I * e.T\n",
    "        print d_theta\n",
    "        #print (d_theta.T * d_theta)[0, 0]\n",
    "        theta += asarray(d_theta.T)[0]\n",
    "        if (d_theta.T * d_theta)[0, 0] < 1e-6:\n",
    "            break\n",
    "    return theta\n",
    "\n",
    "T = forward_kinematics(T0, lv, theta)\n",
    "Te = matrix([from_trans(T[-1])])\n",
    "\n",
    "@interact(x_e=(0, max_len, 0.01), y_e=(-max_len, max_len, 0.01), theta_e=(-pi, pi, 0.01), theta=fixed(theta))\n",
    "def set_end_effector(x_e=Te[0,0], y_e=Te[0,1], theta_e=Te[0,2], theta=theta):\n",
    "    theta = inverse_kinematics(x_e, y_e, theta_e, theta)\n",
    "    T = forward_kinematics(T0, lv, theta)\n",
    "    show_robot_arm(T)"
   ]
  },
  {
   "cell_type": "code",
   "execution_count": null,
   "metadata": {
    "collapsed": false
   },
   "outputs": [],
   "source": []
  }
 ],
 "metadata": {
  "kernelspec": {
   "display_name": "Python 2",
   "language": "python",
   "name": "python2"
  },
  "language_info": {
   "codemirror_mode": {
    "name": "ipython",
    "version": 2
   },
   "file_extension": ".py",
   "mimetype": "text/x-python",
   "name": "python",
   "nbconvert_exporter": "python",
   "pygments_lexer": "ipython2",
   "version": "2.7.6"
  }
 },
 "nbformat": 4,
 "nbformat_minor": 0
}
